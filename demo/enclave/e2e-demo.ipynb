{
 "cells": [
  {
   "cell_type": "markdown",
   "metadata": {},
   "source": [
    "# Secure XGBoost Demo Notebook\n",
    "This notebook provides an example of how one could use Secure XGBoost. The example consists of the following steps:\n",
    "* Key generation\n",
    "* Data encryption\n",
    "* Enclave preparation (creation, attestation, key transfer)\n",
    "* Data loading\n",
    "* Training\n",
    "* Prediction\n",
    "\n",
    "\n",
    "This example simulates a scenario in which sensitive data on a client is outsourced to a remote machine with a hardware enclave for learning. The remote machine is completely untrusted, so nothing should be left in plaintext outside the enclave. In this scenario, the data would be encrypted and transferred, staying encrypted on the remote machine. The data would then be loaded into the enclave, decrypted, and used for learning. After computing a model and while performing inference, the predictions the model gives need to be encrypted inside the enclave before being transferred back to the client, where it can be decrypted.\n"
   ]
  },
  {
   "cell_type": "code",
   "execution_count": 1,
   "metadata": {},
   "outputs": [],
   "source": [
    "import securexgboost as xgb\n",
    "import os\n",
    "from client import *"
   ]
  },
  {
   "cell_type": "code",
   "execution_count": 2,
   "metadata": {},
   "outputs": [],
   "source": [
    "HOME_DIR = os.getcwd() + \"/../../\"\n",
    "\n",
    "# Define OE flags\n",
    "OE_ENCLAVE_FLAG_DEBUG = 1\n",
    "OE_ENCLAVE_FLAG_SIMULATE = 2"
   ]
  },
  {
   "cell_type": "markdown",
   "metadata": {},
   "source": [
    "## Key Generation\n",
    "Generate a key to be used for encryption."
   ]
  },
  {
   "cell_type": "code",
   "execution_count": 3,
   "metadata": {},
   "outputs": [
    {
     "name": "stdout",
     "output_type": "stream",
     "text": [
      "Generating client key...\n"
     ]
    }
   ],
   "source": [
    "KEY_FILE = \"key.txt\"\n",
    "\n",
    "# Generate a key you will be using for encryption\n",
    "generate_client_key(KEY_FILE)"
   ]
  },
  {
   "cell_type": "markdown",
   "metadata": {},
   "source": [
    "## Data Encryption\n",
    "Use the key generated above to encrypt our data."
   ]
  },
  {
   "cell_type": "code",
   "execution_count": 4,
   "metadata": {},
   "outputs": [
    {
     "name": "stdout",
     "output_type": "stream",
     "text": [
      "Encrypting file /home/xgb/secure-xgboost/demo/enclave/../../demo/data/agaricus.txt.train\n",
      "0\n"
     ]
    }
   ],
   "source": [
    "# TODO: Should we set path variable for the encryption/decrypton python files\n",
    "\n",
    "training_data = HOME_DIR + \"demo/data/agaricus.txt.train\"\n",
    "enc_training_data = \"train.enc\"\n",
    "\n",
    "# Encrypt training data\n",
    "encrypt_file(training_data, enc_training_data, KEY_FILE)"
   ]
  },
  {
   "cell_type": "code",
   "execution_count": 5,
   "metadata": {},
   "outputs": [
    {
     "name": "stdout",
     "output_type": "stream",
     "text": [
      "Encrypting file /home/xgb/secure-xgboost/demo/enclave/../../demo/data/agaricus.txt.test\n",
      "0\n"
     ]
    }
   ],
   "source": [
    "test_data = HOME_DIR + \"demo/data/agaricus.txt.test\"\n",
    "enc_test_data = \"test.enc\"\n",
    "\n",
    "# Encrypt test data\n",
    "encrypt_file(test_data, enc_test_data, KEY_FILE)"
   ]
  },
  {
   "cell_type": "markdown",
   "metadata": {},
   "source": [
    "## Prepare Enclave\n",
    "We'll need to create an enclave, authenticate the enclave, and lastly give the enclave the key we used to encrypt the data."
   ]
  },
  {
   "cell_type": "code",
   "execution_count": 9,
   "metadata": {},
   "outputs": [],
   "source": [
    "# Create an enclave\n",
    "enclave = xgb.Enclave(HOME_DIR + \"enclave/build/xgboost_enclave.signed\", flags=(OE_ENCLAVE_FLAG_DEBUG))"
   ]
  },
  {
   "cell_type": "code",
   "execution_count": 10,
   "metadata": {},
   "outputs": [],
   "source": [
    "# Remote Attestation\n",
    "enclave.get_remote_report_with_pubkey()\n",
    "enclave.verify_remote_report_and_set_pubkey()"
   ]
  },
  {
   "cell_type": "code",
   "execution_count": null,
   "metadata": {},
   "outputs": [],
   "source": [
    "# Add key to enclave\n"
   ]
  },
  {
   "cell_type": "markdown",
   "metadata": {},
   "source": [
    "## Load Data\n",
    "Load the encrypted data into a `DMatrix`. "
   ]
  },
  {
   "cell_type": "code",
   "execution_count": 11,
   "metadata": {},
   "outputs": [],
   "source": [
    "# Create training matrix\n",
    "dtrain = xgb.DMatrix(\"train.enc\", encrypted=True)"
   ]
  },
  {
   "cell_type": "code",
   "execution_count": 12,
   "metadata": {},
   "outputs": [],
   "source": [
    "# Create test matrix\n",
    "dtest = xgb.DMatrix(\"test.enc\", encrypted=True)"
   ]
  },
  {
   "cell_type": "markdown",
   "metadata": {},
   "source": [
    "## Perform Training"
   ]
  },
  {
   "cell_type": "code",
   "execution_count": 9,
   "metadata": {},
   "outputs": [],
   "source": [
    "# Set parameters\n",
    "params = {\n",
    "        \"tree_method\": \"hist\",\n",
    "        \"n_gpus\": \"0\",\n",
    "        \"objective\": \"binary:logistic\",\n",
    "        \"min_child_weight\": \"1\",\n",
    "        \"gamma\": \"0.1\",\n",
    "        \"max_depth\": \"3\",\n",
    "        \"verbosity\": \"3\" \n",
    "}"
   ]
  },
  {
   "cell_type": "code",
   "execution_count": 10,
   "metadata": {},
   "outputs": [
    {
     "name": "stdout",
     "output_type": "stream",
     "text": [
      "Tree finished\n",
      "[0]\ttrain-error:0.014433\ttest-error:0.016139\n",
      "Tree finished\n",
      "[1]\ttrain-error:0.014433\ttest-error:0.016139\n",
      "Tree finished\n",
      "[2]\ttrain-error:0.014433\ttest-error:0.016139\n",
      "Tree finished\n",
      "[3]\ttrain-error:0.008598\ttest-error:0.009932\n",
      "Tree finished\n",
      "[4]\ttrain-error:0.001228\ttest-error:0.000000\n",
      "Tree finished\n",
      "[5]\ttrain-error:0.001228\ttest-error:0.000000\n",
      "Tree finished\n",
      "[6]\ttrain-error:0.001228\ttest-error:0.000000\n",
      "Tree finished\n",
      "[7]\ttrain-error:0.001228\ttest-error:0.000000\n",
      "Tree finished\n",
      "[8]\ttrain-error:0.001228\ttest-error:0.000000\n",
      "Tree finished\n",
      "[9]\ttrain-error:0.001228\ttest-error:0.000000\n"
     ]
    }
   ],
   "source": [
    "# Train\n",
    "num_rounds = 10\n",
    "booster = xgb.train(params, dtrain, num_rounds, evals=[(dtrain, \"train\"), (dtest, \"test\")])"
   ]
  },
  {
   "cell_type": "markdown",
   "metadata": {},
   "source": [
    "## Predict\n",
    "Our `predict()` function yields predictions in an encrypted manner. The buffer that it returns will need to be decrypted using the same key that the original data was encrypted with."
   ]
  },
  {
   "cell_type": "code",
   "execution_count": 11,
   "metadata": {},
   "outputs": [
    {
     "name": "stdout",
     "output_type": "stream",
     "text": [
      "\n",
      "\n",
      "Model Predictions: \n",
      "[0.02386593 0.9543875  0.02386593 0.02386593 0.04897502 0.10559791\n",
      " 0.9543875  0.02876541 0.9543875  0.02423424 0.9543875  0.02876541\n",
      " 0.02340852 0.02386593 0.02340852 0.02920706 0.02876541 0.9543875\n",
      " 0.04897502 0.02876541]\n",
      "\n",
      "\n",
      "True Labels: \n",
      "[0. 1. 0. 0. 0. 0. 1. 0. 1. 0. 1. 0. 0. 0. 0. 0. 0. 1. 0. 0.]\n"
     ]
    }
   ],
   "source": [
    "# Get Encrypted Predictions\n",
    "print(\"\\n\\nModel Predictions: \")\n",
    "print(booster.predict(dtest)[:20])"
   ]
  },
  {
   "cell_type": "code",
   "execution_count": null,
   "metadata": {},
   "outputs": [],
   "source": [
    "# Decrypt Predictions"
   ]
  }
 ],
 "metadata": {
  "kernelspec": {
   "display_name": "Python 3",
   "language": "python",
   "name": "python3"
  },
  "language_info": {
   "codemirror_mode": {
    "name": "ipython",
    "version": 3
   },
   "file_extension": ".py",
   "mimetype": "text/x-python",
   "name": "python",
   "nbconvert_exporter": "python",
   "pygments_lexer": "ipython3",
   "version": "3.6.9"
  }
 },
 "nbformat": 4,
 "nbformat_minor": 2
}

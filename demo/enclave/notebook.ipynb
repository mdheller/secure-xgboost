{
 "cells": [
  {
   "cell_type": "code",
   "execution_count": 1,
   "metadata": {},
   "outputs": [],
   "source": [
    "import xgboost as xgb"
   ]
  },
  {
   "cell_type": "code",
   "execution_count": 2,
   "metadata": {},
   "outputs": [],
   "source": [
    "# Define OE flags\n",
    "OE_ENCLAVE_FLAG_DEBUG =1\n",
    "OE_ENCLAVE_FLAG_SIMULATE = 2"
   ]
  },
  {
   "cell_type": "code",
   "execution_count": 3,
   "metadata": {},
   "outputs": [],
   "source": [
    "# Create an enclave\n",
    "enclave = xgb.Enclave(\"/home/xgb/secure-xgboost/enclave/build/xgboost_enclave.signed\", flags=(OE_ENCLAVE_FLAG_DEBUG))"
   ]
  },
  {
   "cell_type": "code",
   "execution_count": 4,
   "metadata": {},
   "outputs": [],
   "source": [
    "# Remote Attestation\n",
    "enclave.get_remote_report_with_pubkey()\n",
    "enclave.verify_remote_report_and_set_pubkey()"
   ]
  },
  {
   "cell_type": "code",
   "execution_count": 5,
   "metadata": {},
   "outputs": [],
   "source": [
    "# Create training matrix\n",
    "dtrain = xgb.DMatrix(\"../data/agaricus.txt.train.enc\")"
   ]
  },
  {
   "cell_type": "code",
   "execution_count": 6,
   "metadata": {},
   "outputs": [],
   "source": [
    "# Create test matrix\n",
    "dtest = xgb.DMatrix(\"../data/agaricus.txt.test.enc\")"
   ]
  },
  {
   "cell_type": "code",
   "execution_count": 7,
   "metadata": {},
   "outputs": [],
   "source": [
    "# Create booster\n",
    "booster = xgb.Booster(cache=(dtrain, dtest))"
   ]
  },
  {
   "cell_type": "code",
   "execution_count": 9,
   "metadata": {},
   "outputs": [],
   "source": [
    "# Set parameters\n",
    "params = {\n",
    "        \"tree_method\": \"hist\",\n",
    "        \"n_gpus\": \"0\",\n",
    "        \"objective\": \"binary:logistic\",\n",
    "        \"min_child_weight\": \"1\",\n",
    "        \"gamma\": \"0.1\",\n",
    "        \"max_depth\": \"3\",\n",
    "        \"verbosity\": \"3\" \n",
    "}\n",
    "booster.set_param(params)"
   ]
  },
  {
   "cell_type": "code",
   "execution_count": 10,
   "metadata": {},
   "outputs": [
    {
     "name": "stdout",
     "output_type": "stream",
     "text": [
      "Tree finished\n",
      "[0]\ttrain-error:0.014433\ttest-error:0.016139\n",
      "Tree finished\n",
      "[1]\ttrain-error:0.014433\ttest-error:0.016139\n",
      "Tree finished\n",
      "[2]\ttrain-error:0.014433\ttest-error:0.016139\n",
      "Tree finished\n",
      "[3]\ttrain-error:0.008598\ttest-error:0.009932\n",
      "Tree finished\n",
      "[4]\ttrain-error:0.001228\ttest-error:0.000000\n",
      "Tree finished\n",
      "[5]\ttrain-error:0.001228\ttest-error:0.000000\n",
      "Tree finished\n",
      "[6]\ttrain-error:0.001228\ttest-error:0.000000\n",
      "Tree finished\n",
      "[7]\ttrain-error:0.001228\ttest-error:0.000000\n",
      "Tree finished\n",
      "[8]\ttrain-error:0.001228\ttest-error:0.000000\n",
      "Tree finished\n",
      "[9]\ttrain-error:0.001228\ttest-error:0.000000\n"
     ]
    }
   ],
   "source": [
    "# Train and evaluate\n",
    "n_trees = 10\n",
    "for i in range(n_trees):\n",
    "  booster.update(dtrain, i)\n",
    "  print(\"Tree finished\")\n",
    "  print(booster.eval_set([(dtrain, \"train\"), (dtest, \"test\")], i))"
   ]
  },
  {
   "cell_type": "code",
   "execution_count": 11,
   "metadata": {},
   "outputs": [
    {
     "name": "stdout",
     "output_type": "stream",
     "text": [
      "\n",
      "\n",
      "Model Predictions: \n",
      "[0.02386593 0.9543875  0.02386593 0.02386593 0.04897502 0.10559791\n",
      " 0.9543875  0.02876541 0.9543875  0.02423424 0.9543875  0.02876541\n",
      " 0.02340852 0.02386593 0.02340852 0.02920706 0.02876541 0.9543875\n",
      " 0.04897502 0.02876541]\n",
      "\n",
      "\n",
      "True Labels: \n",
      "[0. 1. 0. 0. 0. 0. 1. 0. 1. 0. 1. 0. 0. 0. 0. 0. 0. 1. 0. 0.]\n"
     ]
    }
   ],
   "source": [
    "# Predict\n",
    "print(\"\\n\\nModel Predictions: \")\n",
    "print(booster.predict(dtest)[:20])\n",
    "print(\"\\n\\nTrue Labels: \")\n",
    "print(dtest.get_label()[:20])"
   ]
  },
  {
   "cell_type": "code",
   "execution_count": null,
   "metadata": {},
   "outputs": [],
   "source": []
  }
 ],
 "metadata": {
  "kernelspec": {
   "display_name": "Python 3",
   "language": "python",
   "name": "python3"
  },
  "language_info": {
   "codemirror_mode": {
    "name": "ipython",
    "version": 3
   },
   "file_extension": ".py",
   "mimetype": "text/x-python",
   "name": "python",
   "nbconvert_exporter": "python",
   "pygments_lexer": "ipython3",
   "version": "3.6.9"
  }
 },
 "nbformat": 4,
 "nbformat_minor": 2
}

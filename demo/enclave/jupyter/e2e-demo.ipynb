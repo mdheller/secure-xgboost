{
 "cells": [
  {
   "cell_type": "markdown",
   "metadata": {},
   "source": [
    "# Secure XGBoost Demo Notebook\n",
    "This notebook provides an example of how one could use Secure XGBoost. The example consists of the following steps:\n",
    "* Key generation\n",
    "* Data encryption\n",
    "* Enclave preparation (creation, attestation, key transfer)\n",
    "* Data loading\n",
    "* Training\n",
    "* Prediction\n",
    "\n",
    "\n",
    "This example simulates a scenario in which sensitive data on a client is outsourced to a remote machine with a hardware enclave for learning. The remote machine is completely untrusted, so nothing should be left in plaintext outside the enclave. In this scenario, the data would be encrypted and transferred, staying encrypted on the remote machine. The data would then be loaded into the enclave, decrypted, and used for learning. After computing a model and while performing inference, the predictions the model gives need to be encrypted inside the enclave before being transferred back to the client, where it can be decrypted.\n",
    "\n",
    "Ensure that you've set the environment variable `$JUPYTER_PATH=<path_to_secure-xgboost>/client/`"
   ]
  },
  {
   "cell_type": "code",
   "execution_count": 1,
   "metadata": {},
   "outputs": [],
   "source": [
    "%load_ext autoreload\n",
    "%autoreload 2"
   ]
  },
  {
   "cell_type": "code",
   "execution_count": 2,
   "metadata": {},
   "outputs": [],
   "source": [
    "import securexgboost as xgb\n",
    "import os"
   ]
  },
  {
   "cell_type": "code",
   "execution_count": 3,
   "metadata": {},
   "outputs": [],
   "source": [
    "HOME_DIR = os.getcwd() + \"/../../../\"\n",
    "\n",
    "# Define OE flags\n",
    "OE_ENCLAVE_FLAG_DEBUG = 1\n",
    "OE_ENCLAVE_FLAG_SIMULATE = 2"
   ]
  },
  {
   "cell_type": "markdown",
   "metadata": {},
   "source": [
    "## Key Generation\n",
    "Generate a key to be used for encryption."
   ]
  },
  {
   "cell_type": "code",
   "execution_count": 4,
   "metadata": {},
   "outputs": [
    {
     "name": "stdout",
     "output_type": "stream",
     "text": [
      "Generating client key...\n"
     ]
    }
   ],
   "source": [
    "crypto = xgb.CryptoUtils()\n",
    "\n",
    "KEY_FILE = \"key.txt\"\n",
    "\n",
    "# Generate a key you will be using for encryption\n",
    "crypto.generate_client_key(KEY_FILE)"
   ]
  },
  {
   "cell_type": "markdown",
   "metadata": {},
   "source": [
    "## Data Encryption\n",
    "Use the key generated above to encrypt our data."
   ]
  },
  {
   "cell_type": "code",
   "execution_count": 5,
   "metadata": {},
   "outputs": [
    {
     "name": "stdout",
     "output_type": "stream",
     "text": [
      "Encrypting file /home/xgb/secure-xgboost/demo/enclave/jupyter/../../../demo/data/agaricus.txt.train\n"
     ]
    }
   ],
   "source": [
    "training_data = HOME_DIR + \"demo/data/agaricus.txt.train\"\n",
    "enc_training_data = \"train.enc\"\n",
    "\n",
    "# Encrypt training data\n",
    "crypto.encrypt_file(training_data, enc_training_data, KEY_FILE)"
   ]
  },
  {
   "cell_type": "code",
   "execution_count": 6,
   "metadata": {},
   "outputs": [
    {
     "name": "stdout",
     "output_type": "stream",
     "text": [
      "Encrypting file /home/xgb/secure-xgboost/demo/enclave/jupyter/../../../demo/data/agaricus.txt.test\n"
     ]
    }
   ],
   "source": [
    "test_data = HOME_DIR + \"demo/data/agaricus.txt.test\"\n",
    "enc_test_data = \"test.enc\"\n",
    "\n",
    "# Encrypt test data\n",
    "crypto.encrypt_file(test_data, enc_test_data, KEY_FILE)"
   ]
  },
  {
   "cell_type": "markdown",
   "metadata": {},
   "source": [
    "## Prepare Enclave\n",
    "We'll need to create an enclave, authenticate the enclave, and lastly give the enclave the key we used to encrypt the data."
   ]
  },
  {
   "cell_type": "code",
   "execution_count": 7,
   "metadata": {},
   "outputs": [],
   "source": [
    "# Create an enclave\n",
    "enclave = xgb.Enclave(HOME_DIR + \"enclave/build/xgboost_enclave.signed\", flags=(OE_ENCLAVE_FLAG_DEBUG), log_verbosity=3)"
   ]
  },
  {
   "cell_type": "code",
   "execution_count": 8,
   "metadata": {},
   "outputs": [],
   "source": [
    "# Remote Attestation\n",
    "enclave.get_remote_report_with_pubkey()\n",
    "enclave_pem_key, enclave_key_size, remote_report, remote_report_size = enclave.get_report_attrs()\n",
    "enclave.verify_remote_report_and_set_pubkey()"
   ]
  },
  {
   "cell_type": "code",
   "execution_count": 9,
   "metadata": {},
   "outputs": [
    {
     "data": {
      "text/plain": [
       "1"
      ]
     },
     "execution_count": 9,
     "metadata": {},
     "output_type": "execute_result"
    }
   ],
   "source": [
    "sym_key = None\n",
    "\n",
    "# Read the key into memory\n",
    "with open(KEY_FILE, \"rb\") as keyfile:\n",
    "    sym_key = keyfile.read()\n",
    "\n",
    "# Encrypt symmetric key\n",
    "enc_sym_key, enc_sym_key_size = crypto.encrypt_data_with_pk(sym_key, len(sym_key), \n",
    "                                                            enclave_pem_key, enclave_key_size)\n",
    "# Sign encrypted symmetric key\n",
    "sig, sig_size = crypto.sign_data(\"keypair.pem\", enc_sym_key, enc_sym_key_size)\n",
    "\n",
    "# Add key to enclave\n",
    "crypto.add_client_key(enc_sym_key, enc_sym_key_size, sig, sig_size)"
   ]
  },
  {
   "cell_type": "markdown",
   "metadata": {},
   "source": [
    "## Load Data\n",
    "Load the encrypted data into a `DMatrix`. "
   ]
  },
  {
   "cell_type": "code",
   "execution_count": 10,
   "metadata": {},
   "outputs": [],
   "source": [
    "# Create training matrix\n",
    "dtrain = xgb.DMatrix(os.getcwd() + \"/\" + enc_training_data, encrypted=True)"
   ]
  },
  {
   "cell_type": "code",
   "execution_count": 11,
   "metadata": {},
   "outputs": [],
   "source": [
    "# Create test matrix\n",
    "dtest = xgb.DMatrix(os.getcwd() + \"/\" + enc_test_data, encrypted=True)"
   ]
  },
  {
   "cell_type": "markdown",
   "metadata": {},
   "source": [
    "## Perform Training"
   ]
  },
  {
   "cell_type": "code",
   "execution_count": 12,
   "metadata": {},
   "outputs": [],
   "source": [
    "# Set parameters\n",
    "params = {\n",
    "        \"tree_method\": \"hist\",\n",
    "        \"n_gpus\": \"0\",\n",
    "        \"objective\": \"binary:logistic\",\n",
    "        \"min_child_weight\": \"1\",\n",
    "        \"gamma\": \"0.1\",\n",
    "        \"max_depth\": \"3\",\n",
    "        \"verbosity\": \"3\" \n",
    "}"
   ]
  },
  {
   "cell_type": "code",
   "execution_count": null,
   "metadata": {},
   "outputs": [
    {
     "name": "stdout",
     "output_type": "stream",
     "text": [
      "[0]\ttrain-error:0.014433\ttest-error:0.016139\n",
      "[1]\ttrain-error:0.014433\ttest-error:0.016139\n",
      "[2]\ttrain-error:0.014433\ttest-error:0.016139\n",
      "[3]\ttrain-error:0.008598\ttest-error:0.009932\n",
      "[4]\ttrain-error:0.001228\ttest-error:0\n",
      "[5]\ttrain-error:0.001228\ttest-error:0\n",
      "[6]\ttrain-error:0.001228\ttest-error:0\n",
      "[7]\ttrain-error:0.001228\ttest-error:0\n"
     ]
    }
   ],
   "source": [
    "# Train\n",
    "num_rounds = 10\n",
    "booster = xgb.train(params, dtrain, num_rounds, evals=[(dtrain, \"train\"), (dtest, \"test\")])"
   ]
  },
  {
   "cell_type": "markdown",
   "metadata": {},
   "source": [
    "## Predict\n",
    "Our `predict()` function yields predictions in an encrypted manner. The buffer that it returns will need to be decrypted using the same key that the original data was encrypted with."
   ]
  },
  {
   "cell_type": "code",
   "execution_count": null,
   "metadata": {},
   "outputs": [],
   "source": [
    "# Get Encrypted Predictions\n",
    "enc_preds, num_preds = booster.predict(dtest)"
   ]
  },
  {
   "cell_type": "code",
   "execution_count": null,
   "metadata": {},
   "outputs": [],
   "source": [
    "# Decrypt Predictions\n",
    "preds = crypto.decrypt_predictions(sym_key, enc_preds, num_preds)\n",
    "print(preds)"
   ]
  },
  {
   "cell_type": "code",
   "execution_count": null,
   "metadata": {},
   "outputs": [],
   "source": []
  }
 ],
 "metadata": {
  "kernelspec": {
   "display_name": "Python 3",
   "language": "python",
   "name": "python3"
  },
  "language_info": {
   "codemirror_mode": {
    "name": "ipython",
    "version": 3
   },
   "file_extension": ".py",
   "mimetype": "text/x-python",
   "name": "python",
   "nbconvert_exporter": "python",
   "pygments_lexer": "ipython3",
   "version": "3.6.9"
  }
 },
 "nbformat": 4,
 "nbformat_minor": 2
}
